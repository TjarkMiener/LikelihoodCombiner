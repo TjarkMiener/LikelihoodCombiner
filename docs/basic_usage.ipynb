{
 "cells": [
  {
   "cell_type": "markdown",
   "metadata": {},
   "source": [
    "# Basic usage of lklcom \n"
   ]
  },
  {
   "cell_type": "markdown",
   "metadata": {},
   "source": [
    "### Import libraries\n",
    "First, we need to import some libraries. "
   ]
  },
  {
   "cell_type": "code",
   "execution_count": 1,
   "metadata": {},
   "outputs": [],
   "source": [
    "# Plotting libraries\n",
    "import likelihood_combiner as lklcom\n",
    "from likelihood_combiner.utils import get_sigmav_range\n",
    "import numpy as np\n",
    "import matplotlib.pyplot as plt\n",
    "import matplotlib\n",
    "%matplotlib inline\n",
    "# Reading the HDF5 file with pandas\n",
    "import pandas as pd"
   ]
  },
  {
   "cell_type": "markdown",
   "metadata": {},
   "source": [
    "### Path to input file\n",
    "For this walk-through we are using mock data produced with gLike and translated in the lklcom hdf5 via lklcom.io.gLike_to_lklcom. However, lklcom can also read directly from the txt files produced by gLike."
   ]
  },
  {
   "cell_type": "code",
   "execution_count": 2,
   "metadata": {},
   "outputs": [],
   "source": [
    "# You can find this mock data in https://github.com/TjarkMiener/likelihood_combiner/input/mock_data.hdf5\n",
    "mock_file = \"/Users/tmiener/deeplearning/likelihood_combiner/input/mock_data.hdf5\"\n",
    "output_dir = \"/Users/tmiener/deeplearning/likelihood_combiner/output/basic_usage/\"\n",
    "output_file = \"/Users/tmiener/deeplearning/likelihood_combiner/output/basic_usage_results.hdf5\""
   ]
  },
  {
   "cell_type": "markdown",
   "metadata": {},
   "source": [
    "### J-Factor handling\n",
    "The J-Factor is handled via an abstract class, which holds the common functions. Three differnt subclasses are currently implemented. Two subclasses handle the retrieving of the J-Factors with a built-in sets (Bonnivard et al. and Geringer-Sameth et al.). If you would like to use your own J-Factor set, you can hardcode the values in the Custom subclass or implement antoher subclass."
   ]
  },
  {
   "cell_type": "code",
   "execution_count": 3,
   "metadata": {},
   "outputs": [
    {
     "name": "stdout",
     "output_type": "stream",
     "text": [
      "<likelihood_combiner.jfactor.GeringerSameth object at 0x112a13640>\n",
      "{'Segue1': {'MAGIC': 18.94, 'IACT': 19.02, 'HAWC': 19.36}, 'Draco': {'HAWC': 19.05, 'MAGIC': 18.01, 'IACT': 18.12}, 'UrsaMajorII': {'MAGIC': 18.68, 'IACT': 18.79, 'HAWC': 19.42}}\n",
      "{'Segue1': {'MAGIC': 0.37, 'IACT': 0.35, 'HAWC': 0.35}, 'Draco': {'HAWC': 0.21, 'MAGIC': 0.18, 'IACT': 0.15}, 'UrsaMajorII': {'MAGIC': 0.48, 'IACT': 0.46, 'HAWC': 0.42}}\n",
      "<likelihood_combiner.jfactor.GeringerSameth object at 0x111987cd0>\n",
      "{'Segue1': {'IACT': 19.36}}\n",
      "{'Segue1': {'IACT': 0.35}}\n",
      "<likelihood_combiner.jfactor.Bonnivard object at 0x11c922520>\n",
      "{'UrsaMajorII': {'IACT': 18.9449}}\n",
      "{'UrsaMajorII': {'IACT': 0.4038}}\n",
      "<likelihood_combiner.jfactor.Custom object at 0x11c922fa0>\n",
      "{'Segue1': {'IACT': 19.25}}\n",
      "{'Segue1': {'IACT': 0.25}}\n"
     ]
    }
   ],
   "source": [
    "# You can init with an array of sources and a dictionary of collaborations/instruments.\n",
    "# The values of this dictionary should hold the angular cut, the instrument\n",
    "# is applying while data reduction.\n",
    "geringer_jfactor = lklcom.jfactor.GeringerSameth(sources=[\"Segue1\", \"Draco\", \"UrsaMajorII\"],\n",
    "                                        collaborations={\"IACT\": 0.12, \"MAGIC\": 0.1, \"HAWC\":2.6})\n",
    "print(geringer_jfactor)\n",
    "print(geringer_jfactor.get_logJ())\n",
    "print(geringer_jfactor.get_DlogJ())\n",
    "\n",
    "# An optional argument is the \"combination_data\". Here you can pass in the data input.\n",
    "# It will parse through your input file (or input dir for gLike files) and select only valid J-Factors.\n",
    "geringer_jfactor = lklcom.jfactor.GeringerSameth(sources=[\"Segue1\", \"Draco\"],\n",
    "                                        collaborations={\"IACT\": 2.6},\n",
    "                                        combination_data=mock_file)\n",
    "print(geringer_jfactor)\n",
    "print(geringer_jfactor.get_logJ())\n",
    "print(geringer_jfactor.get_DlogJ())\n",
    "\n",
    "\n",
    "# The Bonnivard subclass works the same. \n",
    "bonnivard_jfactor = lklcom.jfactor.Bonnivard(sources=[\"UrsaMajorII\"],\n",
    "                                        collaborations={\"IACT\": 0.1},\n",
    "                                        combination_data=mock_file,\n",
    "                                        precision=4)\n",
    "print(bonnivard_jfactor)\n",
    "print(bonnivard_jfactor.get_logJ())\n",
    "print(bonnivard_jfactor.get_DlogJ())\n",
    "\n",
    "\n",
    "# To hardcode the values, you can call the Custom subclass.\n",
    "custom_logJ = {\"Segue1\": {\"IACT\": 19.25}}\n",
    "custom_DlogJ = {\"Segue1\": {\"IACT\": 0.25}}\n",
    "custom_jfactor = lklcom.jfactor.Custom(logJ=custom_logJ,\n",
    "                                       DlogJ=custom_DlogJ)\n",
    "print(custom_jfactor)\n",
    "print(custom_jfactor.get_logJ())\n",
    "print(custom_jfactor.get_DlogJ())\n"
   ]
  },
  {
   "cell_type": "markdown",
   "metadata": {},
   "source": [
    "### Lkl reading\n",
    "The reading is handled by the abstract LklCom reader class. There are three subclasses. The recommended subclasses are the \"LklCom_hdf5\" for lklcom hdf5 file and \"LklCom_txtdir\" for gLike txt files in one directory. Those are the most efficient one, because it only reads the tables, when they are needed and free the memory afterwards. The \"LklCom_custom\" should be only used to hardcode the values.  "
   ]
  },
  {
   "cell_type": "code",
   "execution_count": 4,
   "metadata": {},
   "outputs": [
    {
     "name": "stdout",
     "output_type": "stream",
     "text": [
      "{'Segue1': {'IACT': {'masses': array([   100.,    200.,    500.,   1000.,   2000.,   5000.,  10000.,\n",
      "        20000.,  50000., 100000.], dtype=float32), 'sigmav_range': array([1.00000145e-28, 1.02329148e-28, 1.04713148e-28, ...,\n",
      "       9.54994389e-19, 9.77238414e-19, 1.00000149e-18], dtype=float32), 'ts_values': array([[-3.83904e-06, -3.92846e-06, -4.01997e-06, ...,  3.56673e+04,\n",
      "         3.64986e+04,  3.73493e+04],\n",
      "       [-2.62588e-05, -2.68704e-05, -2.74963e-05, ...,  2.47741e+05,\n",
      "         2.53513e+05,  2.59418e+05],\n",
      "       [-1.28464e-04, -1.31457e-04, -1.34519e-04, ...,  1.13541e+06,\n",
      "         1.16185e+06,  1.18892e+06],\n",
      "       ...,\n",
      "       [-1.09436e-05, -1.11985e-05, -1.14594e-05, ...,  4.87005e+05,\n",
      "         4.98349e+05,  5.09958e+05],\n",
      "       [ 8.32651e-07,  8.52046e-07,  8.71893e-07, ...,  2.02451e+05,\n",
      "         2.07167e+05,  2.11993e+05],\n",
      "       [ 2.43789e-06,  2.49468e-06,  2.55278e-06, ...,  9.39908e+04,\n",
      "         9.61802e+04,  9.84206e+04]], dtype=float32)}}}\n",
      "{'UrsaMajorII': {'IACT': {'masses': array([   100.,    200.,    500.,   1000.,   2000.,   5000.,  10000.,\n",
      "        20000.,  50000., 100000.], dtype=float32), 'sigmav_range': array([2.9860706e-28, 3.0556164e-28, 3.1268043e-28, ..., 2.8516766e-18,\n",
      "       2.9180986e-18, 2.9860707e-18], dtype=float32), 'ts_values': array([[ 3.03001e-07,  3.10058e-07,  3.17281e-07, ...,  1.23825e+04,\n",
      "         1.26710e+04,  1.29662e+04],\n",
      "       [ 3.35700e-06,  3.43520e-06,  3.51521e-06, ...,  5.62788e+05,\n",
      "         5.75897e+05,  5.89311e+05],\n",
      "       [-1.32534e-04, -1.35621e-04, -1.38780e-04, ...,  1.87901e+06,\n",
      "         1.92277e+06,  1.96756e+06],\n",
      "       ...,\n",
      "       [-2.18393e-05, -2.23480e-05, -2.28685e-05, ...,  3.67914e+05,\n",
      "         3.76485e+05,  3.85254e+05],\n",
      "       [-6.88948e-06, -7.04996e-06, -7.21417e-06, ...,  1.39796e+05,\n",
      "         1.43053e+05,  1.46385e+05],\n",
      "       [-2.53439e-06, -2.59342e-06, -2.65383e-06, ...,  6.60328e+04,\n",
      "         6.75711e+04,  6.91453e+04]], dtype=float32)}}}\n",
      "{'Segue1': {'IACT': {'masses': array([   100.,    200.,    500.,   1000.,   2000.,   5000.,  10000.,\n",
      "        20000.,  50000., 100000.], dtype=float32), 'sigmav_range': array([1.2882514e-28, 1.3182549e-28, 1.3489667e-28, ..., 1.2302711e-18,\n",
      "       1.2589269e-18, 1.2882515e-18], dtype=float32), 'ts_values': array([[-2.83060e-06, -2.89653e-06, -2.96400e-06, ...,  1.14518e+06,\n",
      "         1.17186e+06,  1.19915e+06],\n",
      "       [-1.87217e-04, -1.91578e-04, -1.96041e-04, ...,  6.32520e+06,\n",
      "         6.47253e+06,  6.62330e+06],\n",
      "       [-3.35125e-04, -3.42931e-04, -3.50919e-04, ...,  8.23486e+06,\n",
      "         8.42667e+06,  8.62296e+06],\n",
      "       ...,\n",
      "       [-8.78495e-06, -8.98958e-06, -9.19897e-06, ...,  3.00417e+05,\n",
      "         3.07414e+05,  3.14575e+05],\n",
      "       [-3.33943e-06, -3.41722e-06, -3.49681e-06, ...,  5.62296e+04,\n",
      "         5.75395e+04,  5.88799e+04],\n",
      "       [-8.04281e-07, -8.23015e-07, -8.42185e-07, ...,  1.31008e+04,\n",
      "         1.34061e+04,  1.37185e+04]], dtype=float32)}}}\n"
     ]
    }
   ],
   "source": [
    "# In this walk-through we only demonstrate thee usage with the lklcom hdf5 file.\n",
    "lklcom_reader_geringer = lklcom.reader.LklCom_hdf5(channel=\"bb\",\n",
    "                                        LklCom_jfactor_class=geringer_jfactor)\n",
    "# This is reading the data table.\n",
    "data = lklcom_reader_geringer()\n",
    "print(data)\n",
    "\n",
    "\n",
    "lklcom_reader_bonnivard = lklcom.reader.LklCom_hdf5(channel=\"WW\",\n",
    "                                        LklCom_jfactor_class=bonnivard_jfactor)\n",
    "# This is reading the table for simulation nr. 15\n",
    "data = lklcom_reader_bonnivard(simulation=15)\n",
    "print(data)\n",
    "\n",
    "\n",
    "\n",
    "lklcom_reader_custom = lklcom.reader.LklCom_hdf5(channel=\"tautau\",\n",
    "                                        LklCom_jfactor_class=custom_jfactor,\n",
    "                                        combination_data=mock_file)\n",
    "# This is reading the table for simulation nr. 25\n",
    "data = lklcom_reader_custom(simulation=25)\n",
    "print(data)\n"
   ]
  },
  {
   "cell_type": "markdown",
   "metadata": {},
   "source": [
    "### DM-related stacked analysis \n",
    "Now, we can combine the data via the combiner function. It should be called with a sigmav range, LklCom reader class and a output directory."
   ]
  },
  {
   "cell_type": "code",
   "execution_count": 5,
   "metadata": {},
   "outputs": [
    {
     "name": "stdout",
     "output_type": "stream",
     "text": [
      "[1.000e-28 1.023e-28 1.047e-28 ... 9.550e-19 9.772e-19 1.000e-18]\n"
     ]
    }
   ],
   "source": [
    "# Get the standard sigmav range used for GloryDuck.\n",
    "# However, custom sigmav ranges can be selected.\n",
    "sigmav_range = get_sigmav_range()\n",
    "print(sigmav_range)\n",
    "# Call the combiner function to caluclate the UL for each simulation.\n",
    "for simulation in np.arange(31):\n",
    "    lklcom.combiner(sigmav_range=sigmav_range,\n",
    "                    LklCom_reader_class=lklcom_reader_geringer,\n",
    "                    output=output_dir,\n",
    "                    simulations=[simulation])\n",
    "\n",
    "# Merge the output files into one single hdf5 containing all ULs\n",
    "lklcom.io.merge_to_lklcom(output_dir, output_file)"
   ]
  },
  {
   "cell_type": "markdown",
   "metadata": {},
   "source": [
    "The stacked analysis can also be performed via a function called \"run_cluster()\", which was initially created to run SLURM jobs on a computing farm. You can also run the cluster script on the command line:\n",
    "\n",
    "```\n",
    "python scripts/run_cluster.py [config/example_config.yml] [--channel CHANNEL]\n",
    "    [--input INPUT_PATH] [--output OUTPUT_DIR] [--simulation SIMULATION]```"
   ]
  },
  {
   "cell_type": "code",
   "execution_count": 6,
   "metadata": {},
   "outputs": [],
   "source": [
    "# Minimum settings for the combination.\n",
    "settings = {\n",
    "                'Data': {'buildin_j_factors': 'GeringerSameth', 'j_nuisance': True, 'simulations': 30},\n",
    "                'Configuration': {'sources': ['Segue1', 'UrsaMajorII'], 'collaborations': {'IACT': 2.6}}\n",
    "           }\n",
    "# Run the cluster function with the basic settings.\n",
    "for simulation in np.arange(settings['Data']['simulations']+1):\n",
    "    lklcom.cluster.run_cluster(settings=settings,\n",
    "                               channel=\"WW\",\n",
    "                               input=mock_file,\n",
    "                               output=output_dir,\n",
    "                               simulation=simulation)\n",
    "\n",
    "# Merge the output files into one single hdf5 containing all ULs\n",
    "lklcom.io.merge_to_lklcom(output_dir, output_file)"
   ]
  },
  {
   "cell_type": "markdown",
   "metadata": {},
   "source": [
    "### Parallel processing via the local script\n",
    "It is highly recommended to use the local script to automatically set up parallel processing for your analysis via python multiprocessing. You can run the local script on the command line:\n",
    "\n",
    "```python scripts/run_local.py [config/example_config.yml] [--input INPUT_PATH] [--output OUTPUT_FILE]```\n"
   ]
  },
  {
   "cell_type": "markdown",
   "metadata": {},
   "source": [
    "### Plot the sigmav ULs\n",
    "The lklcom holds some functions (in plotter.py) to plot the results from the result hdf5 file."
   ]
  },
  {
   "cell_type": "code",
   "execution_count": 7,
   "metadata": {},
   "outputs": [
    {
     "data": {
      "image/png": "[encoded data removed]",
      "text/plain": [
       "<Figure size 432x288 with 1 Axes>"
      ]
     },
     "metadata": {
      "needs_background": "light"
     },
     "output_type": "display_data"
    },
    {
     "data": {
      "image/png": "[encoded data removed]",
      "text/plain": [
       "<Figure size 432x288 with 1 Axes>"
      ]
     },
     "metadata": {
      "needs_background": "light"
     },
     "output_type": "display_data"
    }
   ],
   "source": [
    "channels_LaTex = {\n",
    "        \"bb\":\"b\\\\bar{b}\",\n",
    "        \"tautau\":\"\\\\tau^{+}\\\\tau^{-}\",\n",
    "        \"mumu\":\"\\mu^{+}\\mu^{-}\",\n",
    "        \"tt\":\"t\\\\bar{t}\",\n",
    "        \"WW\":\"W^{+}W^{-}\",\n",
    "        \"gammagamma\":\"\\gamma\\gamma\",\n",
    "        \"hh\":\"hh\",\n",
    "        \"ZZ\":\"ZZ\",\n",
    "        \"ee\":\"e^{+}e^{-}\"\n",
    "    }\n",
    "\n",
    "channels = [\"bb\", \"WW\"]\n",
    "\n",
    "for channel in channels:\n",
    "    fig, ax = plt.subplots()\n",
    "\n",
    "    if channel != \"gammagamma\":\n",
    "        ax = lklcom.plotter.plot_thermal_relic(ax=ax)\n",
    "\n",
    "    ax = lklcom.plotter.plot_sigmav_ULs_from_hdf5(file=output_file, channel=channel, ax=ax, label = \"magic comb\")\n",
    "    ax = lklcom.plotter.plot_sigmav_CLbands_from_hdf5(file=output_file, channel=channel, ax=ax)\n",
    "    \n",
    "    if channel != \"gammagamma\":\n",
    "        ax.set_xbound(lower=100.0,upper=100000.0)\n",
    "        ax.set_ybound(lower=1e-28,upper=1e-20)\n",
    "    else:\n",
    "        ax.set_xbound(lower=100.0,upper=25000.0)\n",
    "        ax.set_ybound(lower=1e-30,upper=1e-20)\n",
    "        \n",
    "    ax.text(0.85, 0.1, r'$\\chi\\chi \\to {}$'.format(channels_LaTex[str(channel)]), fontsize=15,horizontalalignment='center',verticalalignment='center', transform=ax.transAxes)\n",
    "    plt.title(\"lklcom magic mock\")\n",
    "    #plt.savefig(f'mock_{channel}.png')\n",
    "    plt.show()"
   ]
  },
  {
   "cell_type": "code",
   "execution_count": null,
   "metadata": {},
   "outputs": [],
   "source": []
  }
 ],
 "metadata": {
  "kernelspec": {
   "display_name": "Python 3",
   "language": "python",
   "name": "python3"
  },
  "language_info": {
   "codemirror_mode": {
    "name": "ipython",
    "version": 3
   },
   "file_extension": ".py",
   "mimetype": "text/x-python",
   "name": "python",
   "nbconvert_exporter": "python",
   "pygments_lexer": "ipython3",
   "version": "3.9.1"
  }
 },
 "nbformat": 4,
 "nbformat_minor": 2
}
